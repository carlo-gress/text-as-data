{
 "cells": [
  {
   "cell_type": "code",
   "execution_count": 2,
   "metadata": {},
   "outputs": [
    {
     "name": "stderr",
     "output_type": "stream",
     "text": [
      "Package version: 3.2.3\n",
      "Unicode version: 10.0\n",
      "ICU version: 60.2\n",
      "\n",
      "Parallel computing: 8 of 8 threads used.\n",
      "\n",
      "See https://quanteda.io for tutorials and examples.\n",
      "\n"
     ]
    }
   ],
   "source": [
    "library(quanteda)"
   ]
  },
  {
   "cell_type": "code",
   "execution_count": 23,
   "metadata": {},
   "outputs": [
    {
     "data": {
      "text/html": [
       "<style>\n",
       ".list-inline {list-style: none; margin:0; padding: 0}\n",
       ".list-inline>li {display: inline-block}\n",
       ".list-inline>li:not(:last-child)::after {content: \"\\00b7\"; padding: 0 .5ex}\n",
       "</style>\n",
       "<ol class=list-inline><li>'The Queen is dead'</li><li>'Long live the King'</li><li>'God save the Queen'</li><li>'I mean it man'</li><li>'Brexit means Brexit'</li></ol>\n"
      ],
      "text/latex": [
       "\\begin{enumerate*}\n",
       "\\item 'The Queen is dead'\n",
       "\\item 'Long live the King'\n",
       "\\item 'God save the Queen'\n",
       "\\item 'I mean it man'\n",
       "\\item 'Brexit means Brexit'\n",
       "\\end{enumerate*}\n"
      ],
      "text/markdown": [
       "1. 'The Queen is dead'\n",
       "2. 'Long live the King'\n",
       "3. 'God save the Queen'\n",
       "4. 'I mean it man'\n",
       "5. 'Brexit means Brexit'\n",
       "\n",
       "\n"
      ],
      "text/plain": [
       "[1] \"The Queen is dead\"   \"Long live the King\"  \"God save the Queen\" \n",
       "[4] \"I mean it man\"       \"Brexit means Brexit\""
      ]
     },
     "metadata": {},
     "output_type": "display_data"
    }
   ],
   "source": [
    "royal_texts <- c(\n",
    "    \"The Queen is dead\",\n",
    "    \"Long live the King\",\n",
    "    \"God save the Queen\",\n",
    "    \"I mean it man\",\n",
    "    \"Brexit means Brexit\"\n",
    ")\n",
    "texts"
   ]
  },
  {
   "cell_type": "code",
   "execution_count": 24,
   "metadata": {},
   "outputs": [
    {
     "data": {
      "text/plain": [
       "Tokens consisting of 5 documents.\n",
       "text1 :\n",
       "[1] \"The\"   \"Queen\" \"is\"    \"dead\" \n",
       "\n",
       "text2 :\n",
       "[1] \"Long\" \"live\" \"the\"  \"King\"\n",
       "\n",
       "text3 :\n",
       "[1] \"God\"   \"save\"  \"the\"   \"Queen\"\n",
       "\n",
       "text4 :\n",
       "[1] \"I\"    \"mean\" \"it\"   \"man\" \n",
       "\n",
       "text5 :\n",
       "[1] \"Brexit\" \"means\"  \"Brexit\"\n"
      ]
     },
     "metadata": {},
     "output_type": "display_data"
    }
   ],
   "source": [
    "royal_tokens <- tokens(royal_texts)\n",
    "royal_tokens"
   ]
  },
  {
   "cell_type": "code",
   "execution_count": 19,
   "metadata": {},
   "outputs": [
    {
     "data": {
      "text/plain": [
       "Document-feature matrix of: 5 documents, 15 features (76.00% sparse) and 0 docvars.\n",
       "       features\n",
       "docs    the queen is dead long live king god save i\n",
       "  text1   1     1  1    1    0    0    0   0    0 0\n",
       "  text2   1     0  0    0    1    1    1   0    0 0\n",
       "  text3   1     1  0    0    0    0    0   1    1 0\n",
       "  text4   0     0  0    0    0    0    0   0    0 1\n",
       "  text5   0     0  0    0    0    0    0   0    0 0\n",
       "[ reached max_nfeat ... 5 more features ]"
      ]
     },
     "metadata": {},
     "output_type": "display_data"
    }
   ],
   "source": [
    "royal_dfm <- dfm(royal_tokens)\n",
    "royal_dfm"
   ]
  },
  {
   "cell_type": "code",
   "execution_count": 21,
   "metadata": {},
   "outputs": [
    {
     "data": {
      "text/plain": [
       "Document-feature matrix of: 5 documents, 15 features (76.00% sparse) and 0 docvars.\n",
       "       features\n",
       "docs    the queen is dead long live king god save i\n",
       "  text1   1     1  1    1    0    0    0   0    0 0\n",
       "  text2   1     0  0    0    1    1    1   0    0 0\n",
       "  text3   1     1  0    0    0    0    0   1    1 0\n",
       "  text4   0     0  0    0    0    0    0   0    0 1\n",
       "  text5   0     0  0    0    0    0    0   0    0 0\n",
       "[ reached max_nfeat ... 5 more features ]"
      ]
     },
     "metadata": {},
     "output_type": "display_data"
    }
   ],
   "source": [
    "royal_dfm$"
   ]
  }
 ],
 "metadata": {
  "kernelspec": {
   "display_name": "R",
   "language": "R",
   "name": "ir"
  },
  "language_info": {
   "codemirror_mode": "r",
   "file_extension": ".r",
   "mimetype": "text/x-r-source",
   "name": "R",
   "pygments_lexer": "r",
   "version": "4.2.1"
  }
 },
 "nbformat": 4,
 "nbformat_minor": 4
}
